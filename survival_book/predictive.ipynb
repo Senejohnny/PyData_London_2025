{
 "cells": [
  {
   "cell_type": "markdown",
   "metadata": {},
   "source": [
    "# Predictive Analytics"
   ]
  },
  {
   "cell_type": "markdown",
   "metadata": {},
   "source": [
    "```{note} hi\n",
    "This is a note admonition\n",
    "```\n",
    "\n",
    "```{warning} hello\n",
    "This is a warning admonition\n",
    "```\n",
    "\n",
    "```{tip}\n",
    "This is a tip admonition\n",
    "```\n",
    "\n",
    "```{caution}\n",
    "This is a caution admonition\n",
    "```\n",
    "\n",
    "```{attention}\n",
    "This is an attention admonition\n",
    "```\n",
    "\n",
    "```{danger}\n",
    "This is a danger admonition\n",
    "```\n",
    "\n",
    "```{error}\n",
    "This is an error admonition\n",
    "```\n",
    "\n",
    "```{hint}\n",
    "This is a hint admonition\n",
    "```\n",
    "\n",
    "```{important}\n",
    "This is an important admonition\n",
    "```\n",
    "\n",
    "```{seealso}\n",
    "This is a seealso admonition\n",
    "```"
   ]
  },
  {
   "cell_type": "markdown",
   "metadata": {},
   "source": []
  },
  {
   "cell_type": "markdown",
   "metadata": {},
   "source": [
    ":::{admonition} What you should already know In order to complete this tutorial, you should be relatively familiar with using the command line, as well as using a text editor. :::\n",
    "\n",
    ":::{admonition} A note for Windows users :class: warning\n",
    "\n",
    "Jupyter Book is now also tested against Windows OS 😀\n",
    "\n",
    "However, there is a known incompatibility for notebook execution when using Python 3.8.\n",
    "\n",
    "See :::"
   ]
  },
  {
   "cell_type": "markdown",
   "metadata": {},
   "source": []
  }
 ],
 "metadata": {
  "language_info": {
   "name": "python"
  }
 },
 "nbformat": 4,
 "nbformat_minor": 2
}
